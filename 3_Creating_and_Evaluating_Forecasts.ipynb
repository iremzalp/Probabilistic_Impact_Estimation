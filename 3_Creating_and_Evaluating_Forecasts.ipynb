{
 "cells": [
  {
   "cell_type": "markdown",
   "id": "73d54d3e",
   "metadata": {},
   "source": [
    "# 3. Creating and Evaluating Forecasts"
   ]
  },
  {
   "cell_type": "markdown",
   "id": "043627e5",
   "metadata": {},
   "source": [
    "In this script, we will begin by introducing the evaluation metrics employed to assess the performance of our forecasting model. Subsequently, we will refine the trained DeepAR model by establishing an optimal classification threshold and then proceed to predict device usage during the testing period."
   ]
  },
  {
   "cell_type": "markdown",
   "id": "69e37949-a588-46f0-8ab9-0125446abf9b",
   "metadata": {},
   "source": [
    "## 1. Load Data"
   ]
  },
  {
   "cell_type": "code",
   "execution_count": 1,
   "id": "9174269a",
   "metadata": {
    "tags": []
   },
   "outputs": [],
   "source": [
    "devices = {0: {'hh': 'hh1', 'dev_name': 'Washing Machine', 'dev': 'washing_machine'},\n",
    "          1: {'hh': 'hh1', 'dev_name': 'Dishwasher', 'dev': 'dishwasher'},\n",
    "          2: {'hh': 'hh2', 'dev_name': 'Washing Machine', 'dev': 'washing_machine'},\n",
    "          3: {'hh': 'hh2', 'dev_name': 'Dishwasher', 'dev': 'dishwasher'},\n",
    "          4: {'hh': 'hh3', 'dev_name': 'Tumble Dryer', 'dev': 'tumble_dryer'},\n",
    "          5: {'hh': 'hh3', 'dev_name': 'Washing Machine', 'dev': 'washing_machine'},\n",
    "          6: {'hh': 'hh3', 'dev_name': 'Dishwasher', 'dev': 'dishwasher'},\n",
    "          7: {'hh': 'hh4', 'dev_name': 'Washing Machine (1)', 'dev': 'washing_machine'},\n",
    "          8: {'hh': 'hh4', 'dev_name': 'Washing Machine (2)', 'dev': 'washing_machine'},\n",
    "          9: {'hh': 'hh5', 'dev_name': 'Tumble Dryer', 'dev': 'tumble_dryer'},\n",
    "          10: {'hh': 'hh6', 'dev_name': 'Washing Machine', 'dev': 'washing_machine'},\n",
    "          11: {'hh': 'hh6', 'dev_name': 'Dishwasher', 'dev': 'dishwasher'},\n",
    "          12: {'hh': 'hh7', 'dev_name': 'Tumble Dryer', 'dev': 'tumble_dryer'},\n",
    "          13: {'hh': 'hh7', 'dev_name': 'Washing Machine', 'dev': 'washing_machine'},\n",
    "          14: {'hh': 'hh7', 'dev_name': 'Dishwasher', 'dev': 'dishwasher'},\n",
    "          15: {'hh': 'hh8', 'dev_name': 'Washing Machine', 'dev': 'washing_machine'},\n",
    "          16: {'hh': 'hh9', 'dev_name': 'Washer Dryer', 'dev': 'washer_dryer'},\n",
    "          17: {'hh': 'hh9', 'dev_name': 'Washing Machine', 'dev': 'washing_machine'},\n",
    "          18: {'hh': 'hh9', 'dev_name': 'Dishwasher', 'dev': 'dishwasher'},\n",
    "          19: {'hh': 'hh10', 'dev_name': 'Washing Machine', 'dev': 'washing_machine'},\n",
    "          }\n",
    "\n"
   ]
  },
  {
   "cell_type": "code",
   "execution_count": 2,
   "id": "a3105f58",
   "metadata": {},
   "outputs": [],
   "source": [
    "import pandas as pd\n",
    "import numpy as np\n",
    "import os\n",
    "\n",
    "PICKLE_PATH = os.getcwd()+'/data/pickle_files'\n"
   ]
  },
  {
   "cell_type": "markdown",
   "id": "7c157bf1",
   "metadata": {},
   "source": [
    "## 2. Create Evaluation Metrics\n",
    "\n",
    "The **'Evaluation_Metrics'** class equips us with the evaluation metrics we will use for assessing the performance of our binary forecasting model. These metrics provide a comprehensive understanding of how well our predictions align with actual outcomes. \n",
    "\n",
    "Moreover, we will investigate the implications of introducing a 2-hour tolerance window specifically for the minority class. Given that device usage accounts for only about 6% of the data, we find it particularly interesting to examine metrics when allowing for a small error margin. This analysis will offer valuable insights into model performance, especially in scenarios where small deviations are permissible for the minority class.\n"
   ]
  },
  {
   "cell_type": "markdown",
   "id": "7edae6ca",
   "metadata": {},
   "source": [
    "### 2.1 Initialize the Class\n",
    "\n",
    "First, the class is initialized with the forecast and target data, along with devices which contains device specific information."
   ]
  },
  {
   "cell_type": "code",
   "execution_count": 3,
   "id": "e1624bd9",
   "metadata": {},
   "outputs": [],
   "source": [
    "from typing import Dict, List, Any, Tuple\n",
    "class Evaluation_Metrics:\n",
    "    '''\n",
    "    A class for evaluating binary forecasts against target data.\n",
    "    It calculates various metrics including misclassification error, accuracy, precision,\n",
    "    recall, and F1-score for binary forecasts at both hourly and daily levels.\n",
    "    Parameters:\n",
    "    ----------\n",
    "    forecast\n",
    "        A dictionary of forecasted dataframes for each device\n",
    "    target\n",
    "        A dictionary of target dataframes for each device\n",
    "    devices\n",
    "        A dictionary containing device-specific information\n",
    "    '''\n",
    "    def __init__(\n",
    "        self,\n",
    "        forecast: Dict[str, pd.DataFrame],\n",
    "        target: Dict[str, pd.DataFrame],\n",
    "        devices: Dict[str, Any],\n",
    "\n",
    "    ):\n",
    "        self.forecast =  {dev: df.copy() for dev, df in forecast.items()}\n",
    "        self.target = {dev: df.copy() for dev, df in target.items()} \n",
    "        self.date_list = np.unique(next(iter(self.target.values())).index.date)\n",
    "        self.devices = devices\n"
   ]
  },
  {
   "cell_type": "markdown",
   "id": "98a59216",
   "metadata": {},
   "source": [
    "### 2.2 Introducing tolerance\n",
    "\n",
    "Before moving onto the evaluation metrics, we first introduce the **'update_forecast_with_tolerance'** method. \n",
    "\n",
    "Incorporating a tolerance window in evaluating the DeepAR model aims to account for the complexities posed by highly unbalanced data distributions, where only about 6% of the dataset represents positive outcomes, and the remaining 94% is dominated by negative instances. By introducing a 2-hour tolerance window around the actual usage instances, we relax the evaluation conditions and allow for a margin of error. This helps us gain a deeper understanding of the model's capability to anticipate device usage patterns.\n",
    "\n",
    "In the method below, when a positive prediction is encountered for a device, the function adjusts adjacent time points to also be predicted as positive. We then use this adjusted forecast to calculate false positives. By increasing the number of positive predictions, we achieve higher true positive and false negative rates. We can use this adjusted forecast to compute more relatex error and accuracy metrics."
   ]
  },
  {
   "cell_type": "code",
   "execution_count": 4,
   "id": "ec3322ce",
   "metadata": {},
   "outputs": [],
   "source": [
    "def update_forecast_with_tolerance(self):\n",
    "    \n",
    "    import copy\n",
    "\n",
    "    arr_dict = {}\n",
    "\n",
    "    forecast_with_tolerance = copy.deepcopy(self.forecast)\n",
    "\n",
    "    for dev in forecast_with_tolerance.keys():\n",
    "        length = len(forecast_with_tolerance[dev])\n",
    "\n",
    "        positive_forecasts = np.where(forecast_with_tolerance[dev] == 1)[0]\n",
    "\n",
    "        if positive_forecasts.size > 0:\n",
    "            \n",
    "            forecast_with_tolerance[dev].iloc[np.maximum(positive_forecasts - 1, 0)] = 1\n",
    "            forecast_with_tolerance[dev].iloc[np.maximum(positive_forecasts - 2, 0)] = 1\n",
    "            forecast_with_tolerance[dev].iloc[np.minimum(positive_forecasts + 1, length - 1)] = 1\n",
    "            forecast_with_tolerance[dev].iloc[np.minimum(positive_forecasts + 2, length - 1)] = 1\n",
    "                \n",
    "    return forecast_with_tolerance\n",
    "\n",
    "setattr(Evaluation_Metrics, 'update_forecast_with_tolerance', update_forecast_with_tolerance)\n",
    "del update_forecast_with_tolerance\n"
   ]
  },
  {
   "cell_type": "markdown",
   "id": "3891023c",
   "metadata": {},
   "source": [
    "### 2.3 Evaluation Metrics for Binary Classification"
   ]
  },
  {
   "cell_type": "markdown",
   "id": "b2b09a66",
   "metadata": {},
   "source": [
    "#### 2.3.1 Total misclassification error\n",
    "\n",
    "**'total_misclassification_error'** method quantifies the total count of misclassifications made by a model. It is the sum of false positives and false negatives. The method takes as input the forecast and provides flexibility by allowing users to compute the metric with or without a tolerance adjustment in the forecast. The increased number of positive instances in the updated forecasts results in lower false negatives."
   ]
  },
  {
   "cell_type": "code",
   "execution_count": 5,
   "id": "504fe897",
   "metadata": {},
   "outputs": [],
   "source": [
    "def total_misclassification_error(self, forecast):\n",
    "    total_error = 0\n",
    "\n",
    "    for dev in self.target.keys():\n",
    "        FP = sum((self.forecast[dev].values == 1) & (self.target[dev].values == 0))\n",
    "        FN = sum((forecast[dev].values == 0) & (self.target[dev].values == 1))\n",
    "\n",
    "        total_error += FP + FN\n",
    "    \n",
    "    return total_error[0]\n",
    "\n",
    "setattr(Evaluation_Metrics, 'total_misclassification_error', total_misclassification_error)\n",
    "del total_misclassification_error\n"
   ]
  },
  {
   "cell_type": "markdown",
   "id": "83caabd7",
   "metadata": {},
   "source": [
    "#### 2.3.2 Total daily misclassification error\n",
    "\n",
    "**'total_daily_misclassification_error'** method quantifies the total count of misclassifications made by the model on days where there are no missing values. It considers usage misclassifications on a daily basis."
   ]
  },
  {
   "cell_type": "code",
   "execution_count": 6,
   "id": "815ebe44",
   "metadata": {},
   "outputs": [],
   "source": [
    "def total_daily_misclassification_error(self, forecast):\n",
    "        \n",
    "    total_daily_error = 0\n",
    "    for dev in self.target.keys():\n",
    "            \n",
    "        daily_forecast = forecast[dev].groupby(forecast[dev].index.date).sum()\n",
    "        daily_target = self.target[dev].groupby(self.target[dev].index.date).agg(lambda x: np.nan if x.isnull().any() else x.sum())\n",
    "        \n",
    "        daily_forecast['usage'] = daily_forecast['usage'].apply(lambda x: 1 if x > 0 else 0)\n",
    "        daily_target['usage'] = daily_target['usage'].apply(lambda x: 1 if (not pd.isna(x) and x > 0) else x)\n",
    "            \n",
    "        FP = sum((daily_forecast.values == 1) & (daily_target.values == 0))\n",
    "        FN = sum((daily_forecast.values == 0) & (daily_target.values == 1))\n",
    "\n",
    "        total_daily_error += FP + FN\n",
    "    \n",
    "    return total_daily_error[0]\n",
    "\n",
    "setattr(Evaluation_Metrics, 'total_daily_misclassification_error', total_daily_misclassification_error)\n",
    "del total_daily_misclassification_error\n"
   ]
  },
  {
   "cell_type": "markdown",
   "id": "b817ec83",
   "metadata": {},
   "source": [
    "#### 2.3.3 Hourly Accuracy\n",
    "\n",
    "**'hourly_accuracy'** method measures the proportion of correctly predicted outcomes, both positive and negative, compared to the total number of instances in the dataset. It provides a simple and intuitive way to understand how well a model's predictions align with actual observations."
   ]
  },
  {
   "cell_type": "code",
   "execution_count": 7,
   "id": "b2d9b435",
   "metadata": {},
   "outputs": [],
   "source": [
    "def hourly_accuracy(self, forecast):\n",
    "    x = self.total_misclassification_error(forecast)\n",
    "        \n",
    "    sum_notna_hours = 0\n",
    "    for i in self.target.keys():\n",
    "        sum_notna_hours += self.target[i].notna().sum()[0]\n",
    "        \n",
    "    accuracy = 1 - x / sum_notna_hours\n",
    "    return round(accuracy,3)\n",
    "    \n",
    "setattr(Evaluation_Metrics, 'hourly_accuracy', hourly_accuracy)\n",
    "del hourly_accuracy\n"
   ]
  },
  {
   "cell_type": "markdown",
   "id": "398772a6",
   "metadata": {},
   "source": [
    "#### 2.3.4 Daily Accuracy\n",
    "\n",
    "The **'daily_accuracy'** calculates the proportion of correctly predicted daily usage, factoring in both positive and negative predictions, in comparison to the total number of non-NA containing days in the dataset.\n",
    "\n",
    "We will use this metric to define the classification threshold of the probabilistic forecasting outcomes."
   ]
  },
  {
   "cell_type": "code",
   "execution_count": 8,
   "id": "9e7a767f",
   "metadata": {},
   "outputs": [],
   "source": [
    "def daily_accuracy(self, forecast):\n",
    "    tme_daily = self.total_daily_misclassification_error(forecast)\n",
    "        \n",
    "    sum_notna_days = 0\n",
    "\n",
    "    for i in self.target.keys():\n",
    "        daily_target = self.target[i].groupby(self.target[i].index.date).agg(lambda x: np.nan if x.isnull().any() else x.sum())\n",
    "        sum_notna_days += daily_target.notna().sum()\n",
    "        \n",
    "    accuracy = (1 - tme_daily / sum_notna_days)[0]\n",
    "    return round(accuracy,3)\n",
    "    \n",
    "setattr(Evaluation_Metrics, 'daily_accuracy', daily_accuracy)\n",
    "del daily_accuracy\n"
   ]
  },
  {
   "cell_type": "markdown",
   "id": "4766dd33",
   "metadata": {},
   "source": [
    "#### 2.3.5 Precision\n",
    "\n",
    "Precision measures the model's ability to make accurate positive predictions, minimizing the occurrences of false positive errors. It quantifies the ratio of correctly identified positive instances to the total instances predicted as positive. A high precision score signifies that when the model predicts a positive outcome, it is generally reliable and trustworthy."
   ]
  },
  {
   "cell_type": "code",
   "execution_count": 9,
   "id": "f9f6dabb",
   "metadata": {},
   "outputs": [],
   "source": [
    "def precision(self,forecast):\n",
    "    \n",
    "    total_precision = 0\n",
    "    \n",
    "    for dev in self.target.keys():\n",
    "\n",
    "        if forecast[dev].sum()[0] == len(forecast[dev]):\n",
    "            FP = sum((forecast[dev].values == 1) & (self.target[dev].values == 0))\n",
    "            \n",
    "        else:\n",
    "            FP = sum((self.forecast[dev].values == 1) & (self.target[dev].values == 0))\n",
    "\n",
    "        TP = sum((forecast[dev].values == 1) & (self.target[dev].values == 1))   \n",
    "            \n",
    "        precision = TP / (TP + FP) if (TP + FP) > 0 else 0\n",
    "        total_precision += precision\n",
    "        \n",
    "    average_precision = total_precision[0]/len(self.devices)\n",
    "\n",
    "    return round(average_precision,3)\n",
    "\n",
    "setattr(Evaluation_Metrics, 'precision', precision)\n",
    "del precision\n"
   ]
  },
  {
   "cell_type": "markdown",
   "id": "229daad0",
   "metadata": {},
   "source": [
    "#### 2.5.6 Recall\n",
    "\n",
    "Recall assesses a model's ability to capture all positive instances within the dataset. It quantifies the ratio of correctly identified positive instances to the total number of actual positive instances. It emphasizes the model's sensitivity to accurately recognizing true positives. High recall is valuable when missing positive instances carries significant consequences, as it ensures a higher likelihood of identifying most of them. "
   ]
  },
  {
   "cell_type": "code",
   "execution_count": 10,
   "id": "12874341",
   "metadata": {},
   "outputs": [],
   "source": [
    "def recall(self,forecast):\n",
    "    \n",
    "    total_recall = 0\n",
    "    \n",
    "    for dev in self.target.keys():\n",
    "        \n",
    "        TP = sum((forecast[dev].values == 1) & (self.target[dev].values == 1))\n",
    "        FN = sum((forecast[dev].values == 0) & (self.target[dev].values == 1))\n",
    "\n",
    "        recall = TP / (TP + FN) if (TP + FN) > 0 else 0\n",
    "        total_recall += recall\n",
    "    \n",
    "    average_recall = total_recall[0]/len(self.devices)\n",
    "\n",
    "    return round(average_recall,3)\n",
    "\n",
    "setattr(Evaluation_Metrics, 'recall', recall)\n",
    "del recall\n"
   ]
  },
  {
   "cell_type": "markdown",
   "id": "68f58cff",
   "metadata": {},
   "source": [
    "#### 2.5.7 F1 Score\n",
    "\n",
    "The F1 score offers comprehensive assessment of a model's classification performance by balancing precision and recall. The F1 score is beneficial when there's a need to strike a balance between precision and recall, for situations where both false positives and false negatives have significant implications.\n",
    "\n",
    "\n",
    "\n"
   ]
  },
  {
   "cell_type": "code",
   "execution_count": 11,
   "id": "7d9e9523",
   "metadata": {},
   "outputs": [],
   "source": [
    "def f1_score(self,forecast):\n",
    "    \n",
    "    total_f1_score = 0\n",
    "    \n",
    "    for dev in self.target.keys():\n",
    "        \n",
    "        TP = sum((forecast[dev].values == 1) & (self.target[dev].values == 1))\n",
    "        FN = sum((forecast[dev].values == 0) & (self.target[dev].values == 1))\n",
    "        FP = sum((self.forecast[dev].values == 1) & (self.target[dev].values == 0))\n",
    "        \n",
    "        precision = TP / (TP + FP) if (TP + FP) > 0 else 0\n",
    "        recall = TP / (TP + FN) if (TP + FN) > 0 else 0\n",
    "\n",
    "        if precision == 0 and recall == 0:\n",
    "            f1_score =  0\n",
    "        else:\n",
    "            f1_score = 2 * (precision * recall) / (precision + recall)\n",
    "            \n",
    "        total_f1_score += f1_score\n",
    "        \n",
    "    average_f1_score = total_f1_score[0]/len(self.devices)  \n",
    "    \n",
    "    return round(average_f1_score,3)\n",
    "\n",
    "setattr(Evaluation_Metrics, 'f1_score', f1_score)\n",
    "del f1_score\n"
   ]
  },
  {
   "cell_type": "markdown",
   "id": "8cf10def",
   "metadata": {},
   "source": [
    "## 3. Creating Forecasts for the Testing Period\n",
    "\n",
    "Now that we have our evaluation metrics at hand, we can move on to using our trained model to create predictions."
   ]
  },
  {
   "cell_type": "markdown",
   "id": "dea2aa2e",
   "metadata": {},
   "source": [
    "### 3.1 Initialize the Class\n",
    "\n",
    "We introduce the **'Generate_Forecasts'** class, that enables the creation of finely tuned probabilistic forecasts from forecast samples."
   ]
  },
  {
   "cell_type": "code",
   "execution_count": 12,
   "id": "87ef009d",
   "metadata": {},
   "outputs": [],
   "source": [
    "from helper_functions_thesis import Helper_Functions_Thesis\n",
    "\n",
    "load_dict = Helper_Functions_Thesis.open_pickle_file(PICKLE_PATH, 'load_dict.pickle')\n",
    "activity_dict = Helper_Functions_Thesis.open_pickle_file(PICKLE_PATH, 'activity_dict.pickle')\n",
    "usage_dict = Helper_Functions_Thesis.open_pickle_file(PICKLE_PATH, 'usage_dict.pickle')\n",
    "predictor = Helper_Functions_Thesis.open_pickle_file(PICKLE_PATH,'deepar_model.pickle')"
   ]
  },
  {
   "cell_type": "code",
   "execution_count": 13,
   "id": "120cfaa4",
   "metadata": {},
   "outputs": [
    {
     "name": "stderr",
     "output_type": "stream",
     "text": [
      "Using `tqdm.autonotebook.tqdm` in notebook mode. Use `tqdm.tqdm` instead to force console mode (e.g. in jupyter console)\n"
     ]
    }
   ],
   "source": [
    "start_dataset = '2014-03-01'\n",
    "end_dataset = '2015-05-07'\n",
    "\n",
    "from Thesis_Classes import Create_Dataset\n",
    "create_dataset = Create_Dataset(start_dataset, end_dataset, devices, load_dict, usage_dict, activity_dict)\n",
    "dataset_dict = create_dataset.pipeline()"
   ]
  },
  {
   "cell_type": "code",
   "execution_count": 14,
   "id": "b870cce4",
   "metadata": {},
   "outputs": [],
   "source": [
    "val_start = '2015-01-01'\n",
    "val_length = 31\n",
    "num_samples = 1000\n",
    "\n",
    "target_val = Helper_Functions_Thesis.create_target_values(\n",
    "    val_start, val_length, dataset_dict, binary_usage=True)\n"
   ]
  },
  {
   "cell_type": "code",
   "execution_count": 15,
   "id": "59590c50",
   "metadata": {},
   "outputs": [],
   "source": [
    "class Generate_Forecasts:\n",
    "    '''\n",
    "    A class for generating forecasts using a specified DeepAR predictor model.\n",
    "    Parameters:\n",
    "    ----------\n",
    "    start_dataset :\n",
    "        The starting date of the dataset used for training the predictor.\n",
    "    start_forecast :\n",
    "        The start date of the forecasting period in 'yyyy-mm-dd' format.\n",
    "    length_forecast :\n",
    "        The length of the forecasting period in days.\n",
    "    predictor :\n",
    "        The machine learning model used for making forecasts.\n",
    "    num_samples :\n",
    "        The number of samples to generate for each device's forecast.\n",
    "    devices :\n",
    "        A dictionary containing device-specific information.\n",
    "    target :\n",
    "        The target variable for the forecasts.\n",
    "    dataset_dict :\n",
    "        A dictionary with target time series data along with covariates.\n",
    "    '''\n",
    "    def __init__(\n",
    "        self,\n",
    "        start_dataset,\n",
    "        start_forecast,\n",
    "        length_forecast,\n",
    "        predictor,\n",
    "        num_samples,\n",
    "        devices,\n",
    "        target,\n",
    "        dataset_dict\n",
    "    ):\n",
    "        from helper_functions_thesis import Helper_Functions_Thesis\n",
    "        self.start_dataset = start_dataset\n",
    "        self.date_list_daily = Helper_Functions_Thesis.create_date_list_daily(start_forecast, length_forecast)\n",
    "        self.date_list_hourly = Helper_Functions_Thesis.create_date_list_hourly(start_forecast, length_forecast)\n",
    "        self.predictor = predictor\n",
    "        self.num_samples = num_samples\n",
    "        self.devices = devices\n",
    "        self.target = target\n",
    "        self.dataset_dict = dataset_dict"
   ]
  },
  {
   "cell_type": "code",
   "execution_count": 16,
   "id": "bce5e8b5",
   "metadata": {},
   "outputs": [],
   "source": [
    "generate_forecasts_val = Generate_Forecasts(\n",
    "    start_dataset,\n",
    "    val_start,\n",
    "    val_length,    \n",
    "    predictor,\n",
    "    num_samples,\n",
    "    devices,\n",
    "    target_val,\n",
    "    dataset_dict)"
   ]
  },
  {
   "cell_type": "markdown",
   "id": "0ca0b738",
   "metadata": {},
   "source": [
    "### 3.2 Create Forecast Samples\n",
    "\n",
    "With the DeepAR model, first step to create forecasts is to create forecast samples. When using this model to predict a time series, the output of the model is represented in a SampleForecast class, which provides samples of the predicted values along with additional information such as the start date, frequency and the prediction length. \n",
    "\n",
    "To assess the model's stability, we seek to generate forecasts for a validation period of 31 days and a testing period of 96 days. To accomplish this, we implement the **'create_forecast_samples'** method. This method creates and combines forecast samples to create a comprehensive dictionary spanning through the prediction phase."
   ]
  },
  {
   "cell_type": "code",
   "execution_count": 17,
   "id": "d72a9a91",
   "metadata": {},
   "outputs": [],
   "source": [
    "def create_forecast_samples(self):\n",
    "    \n",
    "    from Thesis_Classes import Transform_Dataset\n",
    "    from datetime import timedelta\n",
    "    from gluonts.evaluation.backtest import make_evaluation_predictions\n",
    "    \n",
    "    forecasts = {}\n",
    "\n",
    "    for day, date in enumerate(self.date_list_daily):\n",
    "\n",
    "        transformer = Transform_Dataset(start_training = self.start_dataset, \n",
    "                                        start_validation = date, \n",
    "                                        devices = self.devices, \n",
    "                                        dataset_dict = self.dataset_dict)\n",
    "        \n",
    "        _, _, test_ds = transformer.pipeline()\n",
    "\n",
    "        forecast_deepar, _ = make_evaluation_predictions(\n",
    "            dataset=test_ds,\n",
    "            predictor=self.predictor,\n",
    "            num_samples=self.num_samples\n",
    "        )\n",
    "        \n",
    "        forecast = list(forecast_deepar)\n",
    "        \n",
    "        forecast_dict = {}\n",
    "        for i, device_key in enumerate(self.devices.keys()):\n",
    "            forecast_dict[device_key] = forecast[i]\n",
    "\n",
    "        forecasts[day] = forecast_dict\n",
    "        \n",
    "    return forecasts\n",
    "\n",
    "setattr(Generate_Forecasts, 'create_forecast_samples', create_forecast_samples)\n",
    "del create_forecast_samples\n"
   ]
  },
  {
   "cell_type": "code",
   "execution_count": 18,
   "id": "a690f36f",
   "metadata": {},
   "outputs": [],
   "source": [
    "#forecast_samples_val = generate_forecasts_val.create_forecast_samples()\n",
    "forecast_samples_val = Helper_Functions_Thesis.open_pickle_file(PICKLE_PATH,'forecast_samples_val.pickle')"
   ]
  },
  {
   "cell_type": "markdown",
   "id": "9f961f27",
   "metadata": {},
   "source": [
    "### 3.3 Create Forecast Lists\n",
    "\n",
    "The baseline method employed by DeepAR for outcome classification relies on the sample median. Although the model doesn't inherently produce direct probabilities for binary outcomes, it offers the flexibility to create a custom function for outcome determination, predicated on a user-defined quantile. Raising this quantile value is akin to reducing the classification threshold and affects how prediction results are categorized. We manipulate this threshold to increase daily accuracy.\n",
    "\n",
    "The **'create_forecast_lists'** method, featured in this context, operates on forecasted samples alongside a specified threshold value to determine model outcomes, decisively categorizing them as either 0 or 1."
   ]
  },
  {
   "cell_type": "code",
   "execution_count": 19,
   "id": "46263367",
   "metadata": {},
   "outputs": [],
   "source": [
    "def create_forecast_lists(self, forecasts, threshold=0.5):\n",
    "    forecasts_list = {}\n",
    "    quantile = 1-threshold\n",
    "    \n",
    "    for i in self.devices.keys():\n",
    "        forecasts_list[i] = pd.DataFrame()\n",
    "        \n",
    "        for date in forecasts.keys():\n",
    "            quantile_forecast = np.quantile(forecasts[date][i].samples, quantile, axis=0)\n",
    "            quantile_df = pd.DataFrame(quantile_forecast.astype(int))\n",
    "            forecasts_list[i] = pd.concat([forecasts_list[i], quantile_df])\n",
    "        \n",
    "        forecasts_list[i].index = self.date_list_hourly\n",
    "        forecasts_list[i].columns = ['usage']\n",
    "\n",
    "    return forecasts_list\n",
    "\n",
    "setattr(Generate_Forecasts, 'create_forecast_lists', create_forecast_lists)\n",
    "del create_forecast_lists\n"
   ]
  },
  {
   "cell_type": "markdown",
   "id": "2199f858",
   "metadata": {},
   "source": [
    "### 3.4 Evaluate Forecast Samples\n",
    "\n",
    "Now we examine a wide range of threshold values to optimize the performance of our model in the validation period. The goal is to identify the ideal threshold that minimizes total daily missclassification errors. \n",
    "\n",
    "With the **'evaluate_forecast_samples'** method, we examine a wide range of threshold values using the **'create_forecast_lists'** method to optimize the performance of our model. The goal is to identify the ideal threshold that minimizes total daily missclassification errors. "
   ]
  },
  {
   "cell_type": "code",
   "execution_count": 20,
   "id": "36d2f199",
   "metadata": {},
   "outputs": [],
   "source": [
    "def evaluate_forecast_samples(self, forecast_samples, metric_name):\n",
    "\n",
    "    supported_metrics = [\n",
    "        'total_misclassification_error',\n",
    "        'total_daily_misclassification_error',\n",
    "        'hourly_accuracy',\n",
    "        'daily_accuracy',\n",
    "        'precision',\n",
    "        'recall',\n",
    "        'f1_score'\n",
    "    ]\n",
    "\n",
    "    if metric_name not in supported_metrics:\n",
    "        raise ValueError(f\"Unsupported metric '{metric_name}'. Please choose a metric from the list: {supported_metrics}\")\n",
    "\n",
    "    metric_values = []\n",
    "    thresholds = np.arange(0, 1, 0.01)\n",
    "\n",
    "    for threshold in thresholds:\n",
    "        forecast = self.create_forecast_lists(forecast_samples, threshold)\n",
    "        metrics = Evaluation_Metrics(forecast, self.target, self.devices)\n",
    "        metric_function = getattr(metrics, metric_name)\n",
    "        metric_result = metric_function(forecast)\n",
    "        metric_values.append(metric_result)\n",
    "        \n",
    "    if metric_name in ['total_misclassification_error', 'total_daily_misclassification_error']:\n",
    "        best_metric_result = min(metric_values)\n",
    "    else:\n",
    "        best_metric_result = max(metric_values)\n",
    "    \n",
    "    best_threshold_idx = metric_values.index(best_metric_result)\n",
    "    best_threshold = thresholds[best_threshold_idx]\n",
    "\n",
    "    return metric_values, best_threshold, best_threshold_idx\n",
    "\n",
    "setattr(Generate_Forecasts, 'evaluate_forecast_samples', evaluate_forecast_samples)\n",
    "del evaluate_forecast_samples\n"
   ]
  },
  {
   "cell_type": "markdown",
   "id": "c6a6f791",
   "metadata": {},
   "source": [
    "We select the threshold that minimizes total daily misclassification errors."
   ]
  },
  {
   "cell_type": "code",
   "execution_count": 22,
   "id": "494cedfa",
   "metadata": {},
   "outputs": [],
   "source": [
    "TME, Threshold_TME, Threshold_TME_index = generate_forecasts_val.evaluate_forecast_samples(\n",
    "    forecast_samples_val, 'total_misclassification_error')\n",
    "daily_accuracy, Threshold_daily_accuracy, Threshold_daily_accuracy_index = generate_forecasts_val.evaluate_forecast_samples(\n",
    "    forecast_samples_val, 'daily_accuracy')"
   ]
  },
  {
   "cell_type": "code",
   "execution_count": 23,
   "id": "1dee6422",
   "metadata": {},
   "outputs": [],
   "source": [
    "forecast_val = generate_forecasts_val.create_forecast_lists(forecast_samples_val,Threshold_daily_accuracy)\n",
    "evaluation_metrics = Evaluation_Metrics(forecast_val,target_val,devices)"
   ]
  },
  {
   "cell_type": "code",
   "execution_count": 25,
   "id": "93d7dfc6",
   "metadata": {},
   "outputs": [
    {
     "data": {
      "image/png": "[encoded data removed]",
      "text/plain": [
       "<Figure size 1296x432 with 2 Axes>"
      ]
     },
     "metadata": {
      "needs_background": "light"
     },
     "output_type": "display_data"
    }
   ],
   "source": [
    "import matplotlib.pyplot as plt\n",
    "fig, axs = plt.subplots(1, 2, figsize=(18, 6))\n",
    "thresholds = np.arange(0, 1, 0.01)\n",
    "\n",
    "TME_daily_best = evaluation_metrics.total_daily_misclassification_error(forecast_val)\n",
    "daily_accuracy_best = evaluation_metrics.daily_accuracy(forecast_val)\n",
    "hourly_accuracy_best = evaluation_metrics.hourly_accuracy(forecast_val)\n",
    "\n",
    "axs[0].plot(thresholds, daily_accuracy, linestyle='-',  linewidth=2)\n",
    "axs[0].set_xlabel('Threshold')\n",
    "axs[0].set_ylabel('Daily Accuracy')\n",
    "axs[0].set_title('Threshold vs. Daily Accuracy')\n",
    "axs[0].grid(True)\n",
    "axs[0].axvline(x=Threshold_daily_accuracy, color='r', linestyle='--',\n",
    "               label=f'Best Threshold: {Threshold_daily_accuracy} \\nTotal Daily Misclassification Error: {TME_daily_best}\\nDaily Accuracy: {daily_accuracy_best}')\n",
    "axs[0].legend(fontsize=11)\n",
    "\n",
    "# Create the graph\n",
    "axs[1].plot(thresholds, TME, linestyle='-',  linewidth=2)\n",
    "axs[1].set_xlabel('Threshold')\n",
    "axs[1].set_ylabel('hourly Error')\n",
    "axs[1].set_title('Threshold vs. Hourly Error')\n",
    "axs[1].axvline(x=Threshold_daily_accuracy, color='r', linestyle='--',\n",
    "               label=f'Best Threshold: {Threshold_daily_accuracy} \\nTotal Misclassification Error: {TME[Threshold_daily_accuracy_index]}\\nHourly Accuracy: {hourly_accuracy_best}')\n",
    "\n",
    "axs[1].legend(fontsize=11)\n",
    "axs[1].grid(True)\n",
    "plt.savefig('daily_accuracy.png')\n",
    "\n"
   ]
  },
  {
   "cell_type": "code",
   "execution_count": 24,
   "id": "70a6331e",
   "metadata": {},
   "outputs": [
    {
     "name": "stdout",
     "output_type": "stream",
     "text": [
      "hourly accuracy: 0.992\n",
      "daily accuracy: 0.974\n",
      "precision: 0.864\n",
      "recall: 0.925\n",
      "f1 score: 0.891\n"
     ]
    }
   ],
   "source": [
    "print('hourly accuracy:', evaluation_metrics.hourly_accuracy(forecast_val))\n",
    "print('daily accuracy:', evaluation_metrics.daily_accuracy(forecast_val))\n",
    "print('precision:',evaluation_metrics.precision(forecast_val))\n",
    "print('recall:',evaluation_metrics.recall(forecast_val))\n",
    "print('f1 score:',evaluation_metrics.f1_score(forecast_val))\n"
   ]
  },
  {
   "cell_type": "markdown",
   "id": "cb4fb8e8",
   "metadata": {},
   "source": [
    "### 3.5 Create Forecasts For the Test Period\n",
    "\n",
    "We now know the best classification threshold and can create the list of forecasts that achieve maximum daily accuracy. We create a new instance of the **'Generate_Forecasts'** class with the updated parameters for the test data, and generate forecast samples so that we can calculate different quantiles based on the recalibrated forecasts created with the selected threshold. "
   ]
  },
  {
   "cell_type": "code",
   "execution_count": 25,
   "id": "cc228ad8",
   "metadata": {},
   "outputs": [],
   "source": [
    "test_start = '2015-02-01'\n",
    "test_length = 96\n",
    "\n",
    "target_test = Helper_Functions_Thesis.create_target_values(\n",
    "    test_start, test_length, dataset_dict, binary_usage=True)"
   ]
  },
  {
   "cell_type": "code",
   "execution_count": 26,
   "id": "369a2372",
   "metadata": {},
   "outputs": [],
   "source": [
    "generate_forecasts_test = Generate_Forecasts(start_dataset,\n",
    "                                             test_start,\n",
    "                                             test_length,\n",
    "                                             predictor,\n",
    "                                             num_samples,\n",
    "                                             devices,\n",
    "                                             target_test,\n",
    "                                             dataset_dict)"
   ]
  },
  {
   "cell_type": "code",
   "execution_count": 27,
   "id": "ec4e9236",
   "metadata": {},
   "outputs": [],
   "source": [
    "#forecast_samples_test = generate_forecasts_test.create_forecast_samples()\n",
    "forecast_samples_test = Helper_Functions_Thesis.open_pickle_file(PICKLE_PATH,'forecast_samples_test.pickle')"
   ]
  },
  {
   "cell_type": "markdown",
   "id": "3425de6e",
   "metadata": {},
   "source": [
    "### 3.6 Rescale Forecast Samples based on the Threshold\n",
    "\n",
    "First, we need a function to rescale the probabilities. The **'rescale_probabilities'** method is designed to rescale probabilities based on a given threshold. In summary, the function transforms input probabilities based on a given threshold, mapping them to a normalized range between 0 and 1, with an inflection point at the threshold value. After the transformation, the threshold itself becomes the new 0.5 point on the scale, with all values above and below it ranging between 0 and 0.5 or 0.5 and 1, depending on their original position relative to the threshold."
   ]
  },
  {
   "cell_type": "code",
   "execution_count": 28,
   "id": "772b7bff",
   "metadata": {},
   "outputs": [],
   "source": [
    "def rescale_probabilities(self, prob, threshold):\n",
    "    if prob<=threshold:\n",
    "        x = prob/(2*threshold)\n",
    "    else:\n",
    "        x = (prob-threshold)/(2*(1-threshold))+0.5\n",
    "    return x\n",
    "\n",
    "setattr(Generate_Forecasts, 'rescale_probabilities', rescale_probabilities)\n",
    "del rescale_probabilities\n"
   ]
  },
  {
   "cell_type": "markdown",
   "id": "f76eb441",
   "metadata": {},
   "source": [
    "Afterwards, with the **'create_shifted_probabilities'** method, we operationalize this rescaling across our entire set of forecast samples, accommodating the threshold shift. We process the binary samples for each device and date, transforming them into rescaled probabilities that reflect the adjusted decision boundary. "
   ]
  },
  {
   "cell_type": "code",
   "execution_count": 29,
   "id": "af96fabd",
   "metadata": {},
   "outputs": [],
   "source": [
    "def create_shifted_probabilities(self, samples, threshold):\n",
    "    problist = {}\n",
    "    for dev in self.devices.keys():\n",
    "        problist[dev] = []\n",
    "        for date in range(0,len(samples)):\n",
    "            problist[dev] = problist[dev] + [self.rescale_probabilities(p,threshold) for p in samples[date][dev].samples.mean(axis=0)]\n",
    "    return problist\n",
    "\n",
    "\n",
    "setattr(Generate_Forecasts, 'create_shifted_probabilities', create_shifted_probabilities)\n",
    "del create_shifted_probabilities\n"
   ]
  },
  {
   "cell_type": "code",
   "execution_count": 30,
   "id": "021f005a",
   "metadata": {},
   "outputs": [],
   "source": [
    "shifted_probability_list = generate_forecasts_test.create_shifted_probabilities(forecast_samples_test, Threshold_daily_accuracy)"
   ]
  },
  {
   "cell_type": "markdown",
   "id": "f8a8bf0e",
   "metadata": {},
   "source": [
    "Now that we have our new set of probabilities for each device, we can create our own samples, from which we can extract the different  quantiles corresponding to the new classification threshold to visualize the prediction intervals. With the **'rescale_forecast_samples'** method, we create an empty SampleForecast class and use the probability list to create samples. "
   ]
  },
  {
   "cell_type": "code",
   "execution_count": 31,
   "id": "ed8eb370",
   "metadata": {},
   "outputs": [],
   "source": [
    "def rescale_forecast_samples(self, shifted_probability_list, forecast_samples):\n",
    "\n",
    "    from gluonts.model.forecast import SampleForecast\n",
    "\n",
    "    forecast_samples_rescaled = {}\n",
    "    for dev in self.devices.keys():\n",
    "        forecast_samples_rescaled[dev] = SampleForecast(samples=np.array([[0] * len(self.date_list_hourly)] * self.num_samples),\n",
    "                                                       start_date=forecast_samples[0][dev].start_date)\n",
    "\n",
    "        for sample in range(0,len(forecast_samples_rescaled[dev].samples)):\n",
    "            forecast_samples_rescaled[dev].samples[sample] = [np.random.choice([0, 1], p=[1 - x, x]) for x in shifted_probability_list[dev]]\n",
    "    \n",
    "    return forecast_samples_rescaled\n",
    "\n",
    "setattr(Generate_Forecasts, 'rescale_forecast_samples', rescale_forecast_samples)\n",
    "del rescale_forecast_samples\n"
   ]
  },
  {
   "cell_type": "code",
   "execution_count": 32,
   "id": "0b8c72da",
   "metadata": {},
   "outputs": [],
   "source": [
    "#forecast_samples_rescaled = generate_forecasts_test.rescale_forecast_samples(shifted_probability_list, forecast_samples_test)\n",
    "forecast_samples_rescaled = Helper_Functions_Thesis.open_pickle_file(PICKLE_PATH,'forecast_samples_rescaled.pickle')"
   ]
  },
  {
   "cell_type": "markdown",
   "id": "909c98ba",
   "metadata": {},
   "source": [
    "### 3.7 Create q-quantile Forecasts\n",
    "\n",
    "Finally, with the rescaled samples at hand, we can generate q-quantile forecasts with the **'create_forecast_quantiles'** method, which provide insights into the range of potentical outcomes."
   ]
  },
  {
   "cell_type": "code",
   "execution_count": 33,
   "id": "5a4c92ab",
   "metadata": {},
   "outputs": [],
   "source": [
    "def create_forecast_quantiles(self, forecast_samples, quantile = 0.5):\n",
    "    forecast_quantile = {}\n",
    "    for dev in forecast_samples.keys():\n",
    "        forecast_quantile[dev] = pd.DataFrame(forecast_samples[dev].quantile(quantile),\n",
    "                                             columns=['usage'],index=self.date_list_hourly)\n",
    "        \n",
    "    return forecast_quantile\n",
    "\n",
    "setattr(Generate_Forecasts, 'create_forecast_quantiles', create_forecast_quantiles)\n",
    "del create_forecast_quantiles\n"
   ]
  },
  {
   "cell_type": "code",
   "execution_count": 34,
   "id": "e917c698",
   "metadata": {},
   "outputs": [],
   "source": [
    "forecast = generate_forecasts_test.create_forecast_quantiles(forecast_samples_rescaled, quantile = 0.50)"
   ]
  },
  {
   "cell_type": "markdown",
   "id": "9cbb16c1",
   "metadata": {},
   "source": [
    "## 4. Evaluation\n",
    "\n",
    "In the concluding segment of the script, we present the results of the evaluation metrics designed to assess the performance of our forecasting model, and plot the precision recall curve to provide a model-wide evaluation. The interpretation and discussion of the results can be found on our paper."
   ]
  },
  {
   "cell_type": "markdown",
   "id": "83c4e157",
   "metadata": {},
   "source": [
    "### 4.1 Evaluation Metrics"
   ]
  },
  {
   "cell_type": "code",
   "execution_count": 35,
   "id": "e9f2d44c",
   "metadata": {},
   "outputs": [],
   "source": [
    "evaluation_metrics = Evaluation_Metrics(forecast,target_test,devices)\n",
    "forecast_with_tolerance = evaluation_metrics.update_forecast_with_tolerance()"
   ]
  },
  {
   "cell_type": "code",
   "execution_count": 36,
   "id": "5d712a39",
   "metadata": {},
   "outputs": [
    {
     "name": "stdout",
     "output_type": "stream",
     "text": [
      "total misclassification error: 710\n",
      "total misclassification error with tolerance: 557 \n",
      "\n",
      "daily total misclassification error: 64\n",
      "daily total misclassification error with tolerance: 81\n"
     ]
    }
   ],
   "source": [
    "print('total misclassification error:', evaluation_metrics.total_misclassification_error(forecast))\n",
    "print('total misclassification error with tolerance:', evaluation_metrics.total_misclassification_error(forecast_with_tolerance),'\\n')\n",
    "print('daily total misclassification error:', evaluation_metrics.total_daily_misclassification_error(forecast))\n",
    "print('daily total misclassification error with tolerance:', evaluation_metrics.total_daily_misclassification_error(forecast_with_tolerance))"
   ]
  },
  {
   "cell_type": "code",
   "execution_count": 37,
   "id": "7c275d04",
   "metadata": {},
   "outputs": [
    {
     "name": "stdout",
     "output_type": "stream",
     "text": [
      "hourly accuracy: 0.985\n",
      "hourly accuracy with tolerance: 0.988 \n",
      "\n",
      "daily accuracy: 0.967\n",
      "daily accuracy with tolerance: 0.958\n"
     ]
    }
   ],
   "source": [
    "print('hourly accuracy:', evaluation_metrics.hourly_accuracy(forecast))\n",
    "print('hourly accuracy with tolerance:', evaluation_metrics.hourly_accuracy(forecast_with_tolerance),'\\n')\n",
    "print('daily accuracy:', evaluation_metrics.daily_accuracy(forecast))\n",
    "print('daily accuracy with tolerance:', evaluation_metrics.daily_accuracy(forecast_with_tolerance))"
   ]
  },
  {
   "cell_type": "code",
   "execution_count": 38,
   "id": "b287ee27",
   "metadata": {},
   "outputs": [
    {
     "name": "stdout",
     "output_type": "stream",
     "text": [
      "precision: 0.807\n",
      "precision with tolerance: 0.823 \n",
      "\n",
      "recall: 0.842\n",
      "recall with tolerance: 0.913 \n",
      "\n",
      "f1 score: 0.823\n",
      "f1 score with tolerance: 0.863 \n",
      "\n"
     ]
    }
   ],
   "source": [
    "print('precision:',evaluation_metrics.precision(forecast))\n",
    "print('precision with tolerance:',evaluation_metrics.precision(forecast_with_tolerance),'\\n')\n",
    "print('recall:',evaluation_metrics.recall(forecast))\n",
    "print('recall with tolerance:',evaluation_metrics.recall(forecast_with_tolerance),'\\n')\n",
    "print('f1 score:',evaluation_metrics.f1_score(forecast))\n",
    "print('f1 score with tolerance:',evaluation_metrics.f1_score(forecast_with_tolerance),'\\n')"
   ]
  },
  {
   "cell_type": "markdown",
   "id": "59bbe400",
   "metadata": {},
   "source": [
    "### 4.2 Precision Recall Curve"
   ]
  },
  {
   "cell_type": "code",
   "execution_count": 39,
   "id": "10e806fe",
   "metadata": {},
   "outputs": [],
   "source": [
    "Precision, Threshold_Precision, Threshold_Precision_index = generate_forecasts_test.evaluate_forecast_samples(\n",
    "    forecast_samples_test, 'precision')\n",
    "Recall, Threshold_Recall, Threshold_Recall_index = generate_forecasts_test.evaluate_forecast_samples(\n",
    "    forecast_samples_test, 'recall')"
   ]
  },
  {
   "cell_type": "code",
   "execution_count": 40,
   "id": "a1f34657",
   "metadata": {},
   "outputs": [
    {
     "name": "stdout",
     "output_type": "stream",
     "text": [
      "Minority Class Proportion: 0.061\n"
     ]
    }
   ],
   "source": [
    "minority_class_proportion = 0\n",
    "for dev_forecast in forecast.values():\n",
    "    minority_class_proportion += (dev_forecast.sum()/len(dev_forecast))[0]/len(forecast)\n",
    "\n",
    "print(f'Minority Class Proportion: {minority_class_proportion:.3f}')"
   ]
  },
  {
   "cell_type": "code",
   "execution_count": 41,
   "id": "930e5e93",
   "metadata": {},
   "outputs": [
    {
     "name": "stdout",
     "output_type": "stream",
     "text": [
      "AUC-PR for Your Classifier: 0.66\n",
      "AUC-PR for No-Skill Classifier: 0.06\n"
     ]
    }
   ],
   "source": [
    "from sklearn.metrics import auc\n",
    "\n",
    "pr_auc = auc(Recall, Precision)\n",
    "\n",
    "# Calculate AUC-PR for the \"no-skill\" classifier\n",
    "# The \"no-skill\" classifier has a constant precision value equal to the proportion of the minority class\n",
    "no_skill_precision = minority_class_proportion\n",
    "no_skill_recall = np.linspace(0, 1, len(Precision))\n",
    "pr_auc_no_skill = auc(no_skill_recall, [no_skill_precision] * len(Recall))\n",
    "\n",
    "print(f'AUC-PR for Your Classifier: {pr_auc:.2f}')\n",
    "print(f'AUC-PR for No-Skill Classifier: {pr_auc_no_skill:.2f}')"
   ]
  },
  {
   "cell_type": "code",
   "execution_count": 42,
   "id": "665cd321",
   "metadata": {},
   "outputs": [
    {
     "data": {
      "image/png": "[encoded data removed]",
      "text/plain": [
       "<Figure size 648x432 with 1 Axes>"
      ]
     },
     "metadata": {
      "needs_background": "light"
     },
     "output_type": "display_data"
    }
   ],
   "source": [
    "# Plot the Precision-Recall curve\n",
    "plt.figure(figsize=(9, 6))\n",
    "plt.plot(Recall, Precision, marker='', linestyle='-', linewidth=2.5,)\n",
    "plt.xlabel('Recall')\n",
    "plt.ylabel('Precision')\n",
    "plt.title('Precision-Recall Curve')\n",
    "\n",
    "from sklearn.metrics import auc, precision_recall_curve\n",
    "pr_auc = auc(Recall, Precision)\n",
    "\n",
    "highlight_precision = Precision[Threshold_daily_accuracy_index]\n",
    "highlight_recall = Recall[Threshold_daily_accuracy_index]\n",
    "\n",
    "legend_labels = [\n",
    "    f'DeepAR Model (AUC-PR: {pr_auc:.3f})',\n",
    "    f'No-Skill Model (AUC-PR: {pr_auc_no_skill:.3f})',\n",
    "    f'Values at Chosen Threshold={Threshold_daily_accuracy:.2f}'\n",
    "]\n",
    "\n",
    "plt.axhline(y=no_skill_precision, color='gray', linestyle='--', label=legend_labels[1])\n",
    "plt.scatter(highlight_recall, highlight_precision, color='red', label=legend_labels[2])\n",
    "plt.legend(legend_labels, fontsize=11)\n",
    "\n",
    "plt.grid()\n",
    "plt.show()\n"
   ]
  },
  {
   "cell_type": "markdown",
   "id": "f65cc3f0",
   "metadata": {},
   "source": [
    "## 5. Beyond Binary Metrics - Evaluation Measures for Forecasting Performance\n",
    "\n",
    "The GluonTS Evaluator class offers a broader array of evaluation metrics that extend well beyond the realm of binary classification, encompassing a diverse spectrum of measures designed to comprehensively assess forecasting performance across various domains and scenarios. \n",
    "However, careful consideration is required to select and interpret the most appropriate metrics aligned with the specific binary forecasting problem at hand."
   ]
  },
  {
   "cell_type": "code",
   "execution_count": 43,
   "id": "ec891074",
   "metadata": {},
   "outputs": [],
   "source": [
    "#We convert the target and forecast samples into lists to prepare them for evaluation by GluonTS.\n",
    "import copy\n",
    "\n",
    "forecast_samples_rescaled_list = [[]]*len(forecast_samples_rescaled)\n",
    "target_list = list(copy.deepcopy(target_test).values())\n",
    "\n",
    "for nr, dev in enumerate(devices.keys()):\n",
    "    target_list[dev].index = target_list[dev].index.to_period('H')\n",
    "    forecast_samples_rescaled_list[nr] = forecast_samples_rescaled[dev]"
   ]
  },
  {
   "cell_type": "code",
   "execution_count": 44,
   "id": "a7fe12b2",
   "metadata": {},
   "outputs": [
    {
     "name": "stderr",
     "output_type": "stream",
     "text": [
      "Running evaluation: 100%|██████████| 20/20 [00:00<00:00, 419.15it/s]\n",
      "Warning: converting a masked element to nan.\n"
     ]
    }
   ],
   "source": [
    "from gluonts.evaluation import Evaluator\n",
    "quantile_seq = [0.05,0.25,0.5,0.75,0.95]\n",
    "evaluator = Evaluator(quantile_seq)\n",
    "agg_metrics, _ = evaluator(iter(target_list), iter(forecast_samples_rescaled_list), num_series=len(devices))"
   ]
  },
  {
   "cell_type": "code",
   "execution_count": 45,
   "id": "2752d346",
   "metadata": {},
   "outputs": [
    {
     "data": {
      "text/plain": [
       "{'MSE': 0.012466206336805554,\n",
       " 'abs_error': 710.0,\n",
       " 'abs_target_sum': 2740.0,\n",
       " 'abs_target_mean': 0.059461805555555546,\n",
       " 'seasonal_error': nan,\n",
       " 'MASE': nan,\n",
       " 'MAPE': 0.15840308663356967,\n",
       " 'sMAPE': 0.5681300746871851,\n",
       " 'MSIS': nan,\n",
       " 'QuantileLoss[0.05]': 189.60000000000002,\n",
       " 'Coverage[0.05]': 0.0007595486111111112,\n",
       " 'QuantileLoss[0.25]': 452.5,\n",
       " 'Coverage[0.25]': 0.002322048611111111,\n",
       " 'QuantileLoss[0.5]': 710.0,\n",
       " 'Coverage[0.5]': 0.008420138888888888,\n",
       " 'QuantileLoss[0.75]': 792.0,\n",
       " 'Coverage[0.75]': 0.017903645833333332,\n",
       " 'QuantileLoss[0.95]': 549.4000000000002,\n",
       " 'Coverage[0.95]': 0.0544921875,\n",
       " 'RMSE': 0.11165216673582987,\n",
       " 'NRMSE': 1.877712351528117,\n",
       " 'ND': 0.2591240875912409,\n",
       " 'wQuantileLoss[0.05]': 0.06919708029197082,\n",
       " 'wQuantileLoss[0.25]': 0.16514598540145986,\n",
       " 'wQuantileLoss[0.5]': 0.2591240875912409,\n",
       " 'wQuantileLoss[0.75]': 0.28905109489051095,\n",
       " 'wQuantileLoss[0.95]': 0.20051094890510957,\n",
       " 'mean_absolute_QuantileLoss': 538.7,\n",
       " 'mean_wQuantileLoss': 0.19660583941605841,\n",
       " 'MAE_Coverage': 0.44730468749999996,\n",
       " 'OWA': nan}"
      ]
     },
     "execution_count": 45,
     "metadata": {},
     "output_type": "execute_result"
    }
   ],
   "source": [
    "agg_metrics"
   ]
  },
  {
   "cell_type": "markdown",
   "id": "1ccb4261",
   "metadata": {},
   "source": [
    "<br>\n",
    "<br>\n",
    "<br>\n",
    "\n",
    "## **Appendix A1: Complete Evaluation_Metrics Class**"
   ]
  },
  {
   "cell_type": "code",
   "execution_count": 46,
   "id": "f10a0061",
   "metadata": {},
   "outputs": [],
   "source": [
    "\n",
    "class Evaluation_Metrics:\n",
    "    '''\n",
    "    A class for evaluating binary forecasts against target data.\n",
    "    It calculates various metrics including misclassification error, accuracy, precision,\n",
    "    recall, and F1-score for binary forecasts at both hourly and daily levels.\n",
    "    Parameters:\n",
    "    ----------\n",
    "    forecast\n",
    "        A dictionary of forecasted dataframes for each device\n",
    "    target\n",
    "        A dictionary of target dataframes for each device\n",
    "    devices\n",
    "        A dictionary containing device-specific information\n",
    "    '''\n",
    "\n",
    "    def __init__(\n",
    "        self,\n",
    "        forecast: Dict[str, pd.DataFrame],\n",
    "        target: Dict[str, pd.DataFrame],\n",
    "        devices: Dict[str, Any],\n",
    "\n",
    "    ):\n",
    "        self.forecast =  {dev: df.copy() for dev, df in forecast.items()}\n",
    "        self.target = {dev: df.copy() for dev, df in target.items()} \n",
    "        self.date_list = np.unique(next(iter(self.target.values())).index.date)\n",
    "        self.devices = devices\n",
    "\n",
    "    def update_forecast_with_tolerance(self):\n",
    "    \n",
    "        import copy\n",
    "\n",
    "        arr_dict = {}\n",
    "\n",
    "        forecast_with_tolerance = copy.deepcopy(self.forecast)\n",
    "\n",
    "        for dev in forecast_with_tolerance.keys():\n",
    "            length = len(forecast_with_tolerance[dev])\n",
    "\n",
    "            positive_forecasts = np.where(forecast_with_tolerance[dev] == 1)[0]\n",
    "\n",
    "            if positive_forecasts.size > 0:\n",
    "\n",
    "                forecast_with_tolerance[dev].iloc[np.maximum(positive_forecasts - 1, 0)] = 1\n",
    "                forecast_with_tolerance[dev].iloc[np.maximum(positive_forecasts - 2, 0)] = 1\n",
    "                forecast_with_tolerance[dev].iloc[np.minimum(positive_forecasts + 1, length - 1)] = 1\n",
    "                forecast_with_tolerance[dev].iloc[np.minimum(positive_forecasts + 2, length - 1)] = 1\n",
    "                \n",
    "        return forecast_with_tolerance\n",
    "\n",
    "    def total_misclassification_error(self, forecast):\n",
    "        total_error = 0\n",
    "\n",
    "        for dev in self.target.keys():\n",
    "            FP = sum((self.forecast[dev].values == 1) & (self.target[dev].values == 0))\n",
    "            FN = sum((forecast[dev].values == 0) & (self.target[dev].values == 1))\n",
    "\n",
    "            total_error += FP + FN\n",
    "        \n",
    "        return total_error[0]\n",
    "\n",
    "    def total_daily_misclassification_error(self, forecast):\n",
    "        \n",
    "        total_daily_error = 0\n",
    "        for dev in self.target.keys():\n",
    "                \n",
    "            daily_forecast = forecast[dev].groupby(forecast[dev].index.date).sum()\n",
    "            daily_target = self.target[dev].groupby(self.target[dev].index.date).agg(lambda x: np.nan if x.isnull().any() else x.sum())\n",
    "            \n",
    "            daily_forecast['usage'] = daily_forecast['usage'].apply(lambda x: 1 if x > 0 else 0)\n",
    "            daily_target['usage'] = daily_target['usage'].apply(lambda x: 1 if (not pd.isna(x) and x > 0) else x)\n",
    "                \n",
    "            FP = sum((daily_forecast.values == 1) & (daily_target.values == 0))\n",
    "            FN = sum((daily_forecast.values == 0) & (daily_target.values == 1))\n",
    "\n",
    "            total_daily_error += FP + FN\n",
    "        \n",
    "        return total_daily_error[0]\n",
    "\n",
    "    def hourly_accuracy(self, forecast):\n",
    "        x = self.total_misclassification_error(forecast)\n",
    "        \n",
    "        sum_notna_hours = 0\n",
    "        for i in self.target.keys():\n",
    "            sum_notna_hours += self.target[i].notna().sum()[0]\n",
    "        \n",
    "        accuracy = 1 - x / sum_notna_hours\n",
    "        return round(accuracy,3)\n",
    "\n",
    "    def daily_accuracy(self, forecast):\n",
    "        tme_daily = self.total_daily_misclassification_error(forecast)\n",
    "            \n",
    "        sum_notna_days = 0\n",
    "\n",
    "        for i in self.target.keys():\n",
    "            daily_target = self.target[i].groupby(self.target[i].index.date).agg(lambda x: np.nan if x.isnull().any() else x.sum())\n",
    "            sum_notna_days += daily_target.notna().sum()\n",
    "            \n",
    "        accuracy = (1 - tme_daily / sum_notna_days)[0]\n",
    "        return round(accuracy,3)\n",
    "\n",
    "    def precision(self,forecast):\n",
    "    \n",
    "        total_precision = 0\n",
    "        \n",
    "        for dev in self.target.keys():\n",
    "            \n",
    "            TP = sum((forecast[dev].values == 1) & (self.target[dev].values == 1))\n",
    "            FP = sum((self.forecast[dev].values == 1) & (self.target[dev].values == 0))\n",
    "\n",
    "            precision = TP / (TP + FP) if (TP + FP) > 0 else 0\n",
    "            total_precision += precision\n",
    "            \n",
    "        average_precision = total_precision[0]/len(self.devices)\n",
    "\n",
    "        return round(average_precision,3)\n",
    "\n",
    "    def recall(self,forecast):\n",
    "    \n",
    "        total_recall = 0\n",
    "        \n",
    "        for dev in self.target.keys():\n",
    "            \n",
    "            TP = sum((forecast[dev].values == 1) & (self.target[dev].values == 1))\n",
    "            FN = sum((forecast[dev].values == 0) & (self.target[dev].values == 1))\n",
    "\n",
    "            # Calculate Precision and Recall\n",
    "            recall = TP / (TP + FN) if (TP + FN) > 0 else 0\n",
    "            total_recall += recall\n",
    "        \n",
    "        average_recall = total_recall[0]/len(self.devices)\n",
    "\n",
    "        return round(average_recall,3)\n",
    "        \n",
    "    def f1_score(self,forecast):\n",
    "    \n",
    "        total_f1_score = 0\n",
    "        \n",
    "        for dev in self.target.keys():\n",
    "            \n",
    "            TP = sum((forecast[dev].values == 1) & (self.target[dev].values == 1))\n",
    "            FN = sum((forecast[dev].values == 0) & (self.target[dev].values == 1))\n",
    "            FP = sum((self.forecast[dev].values == 1) & (self.target[dev].values == 0))\n",
    "            \n",
    "            precision = TP / (TP + FP) if (TP + FP) > 0 else 0\n",
    "            recall = TP / (TP + FN) if (TP + FN) > 0 else 0\n",
    "        \n",
    "            if precision + recall == 0:\n",
    "                f1_score =  0\n",
    "            else:\n",
    "                f1_score = 2 * (precision * recall) / (precision + recall)\n",
    "                \n",
    "            total_f1_score += f1_score\n",
    "            \n",
    "        average_f1_score = total_f1_score[0]/len(self.devices)  \n",
    "        \n",
    "        return round(average_f1_score,3)\n",
    "\n"
   ]
  },
  {
   "cell_type": "markdown",
   "id": "20ae0388",
   "metadata": {},
   "source": [
    "\n",
    "## **Appendix A2: Complete Generate_Forecasts Class**"
   ]
  },
  {
   "cell_type": "code",
   "execution_count": 47,
   "id": "521e9f28",
   "metadata": {},
   "outputs": [],
   "source": [
    "\n",
    "class Generate_Forecasts:\n",
    "    '''\n",
    "    A class for generating forecasts using a specified DeepAR predictor model.\n",
    "    Parameters:\n",
    "    ----------\n",
    "    start_dataset :\n",
    "        The starting date of the dataset used for training the predictor.\n",
    "    start_forecast :\n",
    "        The start date of the forecasting period in 'yyyy-mm-dd' format.\n",
    "    length_forecast :\n",
    "        The length of the forecasting period in days.\n",
    "    predictor :\n",
    "        The machine learning model used for making forecasts.\n",
    "    num_samples :\n",
    "        The number of samples to generate for each device's forecast.\n",
    "    devices :\n",
    "        A dictionary containing device-specific information.\n",
    "    target :\n",
    "        The target variable for the forecasts.\n",
    "    dataset_dict :\n",
    "        A dictionary with target time series data along with covariates.\n",
    "    '''\n",
    "    def __init__(\n",
    "        self,\n",
    "        start_dataset,\n",
    "        start_forecast,\n",
    "        length_forecast,\n",
    "        predictor,\n",
    "        num_samples,\n",
    "        devices,\n",
    "        target,\n",
    "        dataset_dict\n",
    "    ):\n",
    "        from helper_functions_thesis import Helper_Functions_Thesis\n",
    "        self.start_dataset = start_dataset\n",
    "        self.date_list_daily = Helper_Functions_Thesis.create_date_list_daily(start_forecast, length_forecast)\n",
    "        self.date_list_hourly = Helper_Functions_Thesis.create_date_list_hourly(start_forecast, length_forecast)\n",
    "        self.predictor = predictor\n",
    "        self.num_samples = num_samples\n",
    "        self.devices = devices\n",
    "        self.target = target\n",
    "        self.dataset_dict = dataset_dict\n",
    "\n",
    "    def create_forecast_samples(self):\n",
    "    \n",
    "        from Thesis_Classes import Transform_Dataset\n",
    "        from datetime import timedelta\n",
    "        from gluonts.evaluation.backtest import make_evaluation_predictions\n",
    "        \n",
    "        forecasts = {}\n",
    "\n",
    "        for day, date in enumerate(self.date_list_daily):\n",
    "\n",
    "            transformer = Transform_Dataset(self.start_dataset, \n",
    "                                            date, \n",
    "                                            self.devices, \n",
    "                                            self.dataset_dict)\n",
    "            \n",
    "            _, _, test_ds = transformer.pipeline()\n",
    "\n",
    "            forecast_deepar, _ = make_evaluation_predictions(\n",
    "                dataset=test_ds,\n",
    "                predictor=self.predictor,\n",
    "                num_samples=self.num_samples\n",
    "            )\n",
    "            \n",
    "            forecast = list(forecast_deepar)\n",
    "\n",
    "            forecast_dict = {}\n",
    "            for i, device_key in enumerate(self.devices.keys()):\n",
    "                forecast_dict[device_key] = forecast[i]\n",
    "\n",
    "            forecasts[day] = forecast_dict\n",
    "            \n",
    "        return forecasts\n",
    "\n",
    "    def create_forecast_lists(self, forecasts, threshold=0.5):\n",
    "        forecasts_list = {}\n",
    "        quantile = 1-threshold\n",
    "        \n",
    "        for i in self.devices.keys():\n",
    "            forecasts_list[i] = pd.DataFrame()\n",
    "            \n",
    "            for date in forecasts.keys():\n",
    "                quantile_forecast = np.quantile(forecasts[date][i].samples, quantile, axis=0)\n",
    "                quantile_df = pd.DataFrame(quantile_forecast.astype(int))\n",
    "                forecasts_list[i] = pd.concat([forecasts_list[i], quantile_df])\n",
    "            \n",
    "            forecasts_list[i].index = self.date_list_hourly\n",
    "            forecasts_list[i].columns = ['usage']\n",
    "\n",
    "        return forecasts_list\n",
    "\n",
    "    def evaluate_forecast_samples(self, forecast_samples, metric_name):\n",
    "\n",
    "        supported_metrics = [\n",
    "            'total_misclassification_error',\n",
    "            'total_daily_misclassification_error',\n",
    "            'hourly_accuracy',\n",
    "            'daily_accuracy',\n",
    "            'precision',\n",
    "            'recall',\n",
    "            'f1_score'\n",
    "        ]\n",
    "\n",
    "        if metric_name not in supported_metrics:\n",
    "            raise ValueError(f\"Unsupported metric '{metric_name}'. Please choose a metric from the list: {supported_metrics}\")\n",
    "\n",
    "        metric_values = []\n",
    "        thresholds = np.arange(0, 1, 0.01)\n",
    "\n",
    "        for threshold in thresholds:\n",
    "            forecast = self.create_forecast_lists(forecast_samples, threshold)\n",
    "            metrics = Evaluation_Metrics(forecast, self.target, self.devices)\n",
    "            metric_function = getattr(metrics, metric_name)\n",
    "            metric_result = metric_function(forecast)\n",
    "            metric_values.append(metric_result)\n",
    "            \n",
    "        if metric_name in ['total_misclassification_error', 'total_daily_misclassification_error']:\n",
    "            best_metric_result = min(metric_values)\n",
    "        else:\n",
    "            best_metric_result = max(metric_values)\n",
    "        \n",
    "        best_threshold_idx = metric_values.index(best_metric_result)\n",
    "        best_threshold = thresholds[best_threshold_idx]\n",
    "\n",
    "        return metric_values, best_threshold, best_threshold_idx\n",
    "\n",
    "    def rescale_probabilities(self, prob, threshold):\n",
    "        if prob<=threshold:\n",
    "            x = prob/(2*threshold)\n",
    "        else:\n",
    "            x = (prob-threshold)/(2*(1-threshold))+0.5\n",
    "        return x\n",
    "\n",
    "    def create_shifted_probabilities(self, samples, threshold):\n",
    "        problist = {}\n",
    "        for dev in self.devices.keys():\n",
    "            problist[dev] = []\n",
    "            for date in range(0,len(samples)):\n",
    "                problist[dev] = problist[dev] + [self.rescale_probabilities(p,threshold) for p in samples[date][dev].samples.mean(axis=0)]\n",
    "        return problist\n",
    "\n",
    "    def rescale_forecast_samples(self, shifted_probability_list, forecast_samples):\n",
    "\n",
    "        from gluonts.model.forecast import SampleForecast\n",
    "\n",
    "        forecast_samples_rescaled = {}\n",
    "        for dev in self.devices.keys():\n",
    "            forecast_samples_rescaled[dev] = SampleForecast(samples=np.array([[0] * len(self.date_list_hourly)] * self.num_samples),\n",
    "                                                        start_date=forecast_samples[0][dev].start_date)\n",
    "\n",
    "            for sample in range(0,len(forecast_samples_rescaled[dev].samples)):\n",
    "                forecast_samples_rescaled[dev].samples[sample] = [np.random.choice([0, 1], p=[1 - x, x]) for x in shifted_probability_list[dev]]\n",
    "        \n",
    "        return forecast_samples_rescaled\n",
    "\n",
    "    @staticmethod\n",
    "    def create_forecast_quantiles(forecast_samples, quantile = 0.5):\n",
    "        from helper_functions_thesis import Helper_Functions_Thesis\n",
    "        forecast_quantile = {}\n",
    "        first_key = next(iter(forecast_samples))\n",
    "        start_forecast = forecast_samples[first_key].start_date.strftime('%Y-%m-%d')\n",
    "        length_forecast = len(forecast_samples[first_key].quantile(0.5)) / 24\n",
    "        date_list_hourly = Helper_Functions_Thesis.create_date_list_hourly(start_forecast, length_forecast)\n",
    "\n",
    "        for dev in forecast_samples.keys():\n",
    "\n",
    "            forecast_quantile[dev] = pd.DataFrame(forecast_samples[dev].quantile(quantile),\n",
    "                                                columns=['usage'],index=date_list_hourly)\n",
    "            \n",
    "        return forecast_quantile\n"
   ]
  },
  {
   "cell_type": "markdown",
   "id": "cd542ed7",
   "metadata": {},
   "source": [
    "# "
   ]
  }
 ],
 "metadata": {
  "kernelspec": {
   "display_name": "Python 3",
   "language": "python",
   "name": "python3"
  },
  "language_info": {
   "codemirror_mode": {
    "name": "ipython",
    "version": 3
   },
   "file_extension": ".py",
   "mimetype": "text/x-python",
   "name": "python",
   "nbconvert_exporter": "python",
   "pygments_lexer": "ipython3",
   "version": "3.8.12"
  }
 },
 "nbformat": 4,
 "nbformat_minor": 5
}
